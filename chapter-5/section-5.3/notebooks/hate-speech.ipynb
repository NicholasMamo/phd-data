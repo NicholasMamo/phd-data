{
 "cells": [
  {
   "cell_type": "markdown",
   "metadata": {},
   "source": [
    "Purpose of notebook: downloading datasets from scratch (assuming that the original dataset is unavailable)"
   ]
  },
  {
   "cell_type": "code",
   "execution_count": 5,
   "metadata": {},
   "outputs": [],
   "source": [
    "from datetime import date, datetime\n",
    "import ujson as json\n",
    "import os\n",
    "import sys\n",
    "\n",
    "from dateutil.parser import parse\n",
    "import pandas as pd\n",
    "from scipy.stats import shapiro, ttest_ind\n",
    "from statsmodels.stats.weightstats import ztest\n",
    "\n",
    "sys.path.append(os.path.expanduser(\"~/GitHub/EvenTDT\"))\n",
    "\n",
    "from eventdt import twitter\n",
    "\n",
    "corpus = 'founta' # options: founta, waseem\n",
    "\n",
    "labels = os.path.expanduser(f\"~/DATA/c5-evaluation/{corpus}/{ corpus }-labels.csv\")\n",
    "downloaded = os.path.expanduser(f\"~/DATA/c5-evaluation/{corpus}/{ corpus }-downloaded.json\")"
   ]
  },
  {
   "cell_type": "code",
   "execution_count": 6,
   "metadata": {},
   "outputs": [
    {
     "name": "stdout",
     "output_type": "stream",
     "text": [
      "CPU times: user 50.1 ms, sys: 5.82 ms, total: 56 ms\n",
      "Wall time: 58.8 ms\n"
     ]
    },
    {
     "data": {
      "text/html": [
       "<div>\n",
       "<style scoped>\n",
       "    .dataframe tbody tr th:only-of-type {\n",
       "        vertical-align: middle;\n",
       "    }\n",
       "\n",
       "    .dataframe tbody tr th {\n",
       "        vertical-align: top;\n",
       "    }\n",
       "\n",
       "    .dataframe thead th {\n",
       "        text-align: right;\n",
       "    }\n",
       "</style>\n",
       "<table border=\"1\" class=\"dataframe\">\n",
       "  <thead>\n",
       "    <tr style=\"text-align: right;\">\n",
       "      <th></th>\n",
       "      <th>label</th>\n",
       "    </tr>\n",
       "    <tr>\n",
       "      <th>tweet_id</th>\n",
       "      <th></th>\n",
       "    </tr>\n",
       "  </thead>\n",
       "  <tbody>\n",
       "    <tr>\n",
       "      <th>849667487180259329</th>\n",
       "      <td>abusive</td>\n",
       "    </tr>\n",
       "    <tr>\n",
       "      <th>850490912954351616</th>\n",
       "      <td>abusive</td>\n",
       "    </tr>\n",
       "    <tr>\n",
       "      <th>848791766853668864</th>\n",
       "      <td>abusive</td>\n",
       "    </tr>\n",
       "    <tr>\n",
       "      <th>848306464892604416</th>\n",
       "      <td>abusive</td>\n",
       "    </tr>\n",
       "    <tr>\n",
       "      <th>850010509969465344</th>\n",
       "      <td>normal</td>\n",
       "    </tr>\n",
       "    <tr>\n",
       "      <th>...</th>\n",
       "      <td>...</td>\n",
       "    </tr>\n",
       "    <tr>\n",
       "      <th>848922176128376832</th>\n",
       "      <td>hateful</td>\n",
       "    </tr>\n",
       "    <tr>\n",
       "      <th>849405078956109829</th>\n",
       "      <td>abusive</td>\n",
       "    </tr>\n",
       "    <tr>\n",
       "      <th>847981251143254016</th>\n",
       "      <td>normal</td>\n",
       "    </tr>\n",
       "    <tr>\n",
       "      <th>850180983253073920</th>\n",
       "      <td>abusive</td>\n",
       "    </tr>\n",
       "    <tr>\n",
       "      <th>849515175254405120</th>\n",
       "      <td>abusive</td>\n",
       "    </tr>\n",
       "  </tbody>\n",
       "</table>\n",
       "<p>99799 rows × 1 columns</p>\n",
       "</div>"
      ],
      "text/plain": [
       "                      label\n",
       "tweet_id                   \n",
       "849667487180259329  abusive\n",
       "850490912954351616  abusive\n",
       "848791766853668864  abusive\n",
       "848306464892604416  abusive\n",
       "850010509969465344   normal\n",
       "...                     ...\n",
       "848922176128376832  hateful\n",
       "849405078956109829  abusive\n",
       "847981251143254016   normal\n",
       "850180983253073920  abusive\n",
       "849515175254405120  abusive\n",
       "\n",
       "[99799 rows x 1 columns]"
      ]
     },
     "execution_count": 6,
     "metadata": {},
     "output_type": "execute_result"
    }
   ],
   "source": [
    "%%time\n",
    "df = pd.read_csv(labels)\n",
    "df = df.set_index('tweet_id', drop=True)\n",
    "df"
   ]
  },
  {
   "cell_type": "code",
   "execution_count": 7,
   "metadata": {
    "scrolled": false
   },
   "outputs": [
    {
     "name": "stdout",
     "output_type": "stream",
     "text": [
      "CPU times: user 6.86 s, sys: 68.5 ms, total: 6.93 s\n",
      "Wall time: 6.92 s\n"
     ]
    }
   ],
   "source": [
    "%%time\n",
    "available = { }\n",
    "with open(downloaded, 'r') as dl:\n",
    "    for tweet in dl:\n",
    "        tweet = json.loads(tweet)\n",
    "        available[tweet['id_str']] = { 'id': tweet['id_str'], 'text': twitter.full_text(tweet),\n",
    "                                       'timestamp': twitter.extract_timestamp(tweet) }"
   ]
  },
  {
   "cell_type": "code",
   "execution_count": 8,
   "metadata": {},
   "outputs": [
    {
     "name": "stdout",
     "output_type": "stream",
     "text": [
      "CPU times: user 16.8 ms, sys: 130 µs, total: 16.9 ms\n",
      "Wall time: 16.9 ms\n"
     ]
    }
   ],
   "source": [
    "%%time\n",
    "df['available'] = df.index.isin(list(available))"
   ]
  },
  {
   "cell_type": "code",
   "execution_count": 9,
   "metadata": {},
   "outputs": [
    {
     "data": {
      "text/plain": [
       "available\n",
       "False    0.46251\n",
       "True     0.53749\n",
       "Name: label, dtype: float64"
      ]
     },
     "execution_count": 9,
     "metadata": {},
     "output_type": "execute_result"
    }
   ],
   "source": [
    "df.groupby([ 'available' ]).count()['label'] / len(df)"
   ]
  },
  {
   "cell_type": "code",
   "execution_count": 10,
   "metadata": {},
   "outputs": [
    {
     "name": "stdout",
     "output_type": "stream",
     "text": [
      "CPU times: user 56.8 ms, sys: 114 µs, total: 56.9 ms\n",
      "Wall time: 56.2 ms\n"
     ]
    },
    {
     "data": {
      "text/html": [
       "<div>\n",
       "<style scoped>\n",
       "    .dataframe tbody tr th:only-of-type {\n",
       "        vertical-align: middle;\n",
       "    }\n",
       "\n",
       "    .dataframe tbody tr th {\n",
       "        vertical-align: top;\n",
       "    }\n",
       "\n",
       "    .dataframe thead th {\n",
       "        text-align: right;\n",
       "    }\n",
       "</style>\n",
       "<table border=\"1\" class=\"dataframe\">\n",
       "  <thead>\n",
       "    <tr style=\"text-align: right;\">\n",
       "      <th></th>\n",
       "      <th>label</th>\n",
       "      <th>available</th>\n",
       "      <th>text</th>\n",
       "    </tr>\n",
       "    <tr>\n",
       "      <th>tweet_id</th>\n",
       "      <th></th>\n",
       "      <th></th>\n",
       "      <th></th>\n",
       "    </tr>\n",
       "  </thead>\n",
       "  <tbody>\n",
       "    <tr>\n",
       "      <th>848922176128376832</th>\n",
       "      <td>hateful</td>\n",
       "      <td>False</td>\n",
       "      <td></td>\n",
       "    </tr>\n",
       "    <tr>\n",
       "      <th>849405078956109829</th>\n",
       "      <td>abusive</td>\n",
       "      <td>False</td>\n",
       "      <td></td>\n",
       "    </tr>\n",
       "    <tr>\n",
       "      <th>847981251143254016</th>\n",
       "      <td>normal</td>\n",
       "      <td>False</td>\n",
       "      <td></td>\n",
       "    </tr>\n",
       "    <tr>\n",
       "      <th>850180983253073920</th>\n",
       "      <td>abusive</td>\n",
       "      <td>False</td>\n",
       "      <td></td>\n",
       "    </tr>\n",
       "    <tr>\n",
       "      <th>849515175254405120</th>\n",
       "      <td>abusive</td>\n",
       "      <td>True</td>\n",
       "      <td>Swear to god it's the worst shit ever https://...</td>\n",
       "    </tr>\n",
       "  </tbody>\n",
       "</table>\n",
       "</div>"
      ],
      "text/plain": [
       "                      label  available  \\\n",
       "tweet_id                                 \n",
       "848922176128376832  hateful      False   \n",
       "849405078956109829  abusive      False   \n",
       "847981251143254016   normal      False   \n",
       "850180983253073920  abusive      False   \n",
       "849515175254405120  abusive       True   \n",
       "\n",
       "                                                                 text  \n",
       "tweet_id                                                               \n",
       "848922176128376832                                                     \n",
       "849405078956109829                                                     \n",
       "847981251143254016                                                     \n",
       "850180983253073920                                                     \n",
       "849515175254405120  Swear to god it's the worst shit ever https://...  "
      ]
     },
     "execution_count": 10,
     "metadata": {},
     "output_type": "execute_result"
    }
   ],
   "source": [
    "%%time\n",
    "df['text'] = df.index.map(lambda tid: available.get(str(tid), {}).get('text', ''))\n",
    "df.tail()"
   ]
  },
  {
   "cell_type": "code",
   "execution_count": 11,
   "metadata": {},
   "outputs": [
    {
     "name": "stdout",
     "output_type": "stream",
     "text": [
      "CPU times: user 193 ms, sys: 3.81 ms, total: 196 ms\n",
      "Wall time: 197 ms\n"
     ]
    },
    {
     "data": {
      "text/plain": [
       "(datetime.date(2017, 3, 30), datetime.date(2017, 4, 9))"
      ]
     },
     "execution_count": 11,
     "metadata": {},
     "output_type": "execute_result"
    }
   ],
   "source": [
    "%%time\n",
    "df['timestamp'] = df.index.map(lambda tid: available.get(str(tid), {}).get('timestamp', 0))\n",
    "df['datetime'] = df.timestamp.map(lambda timestamp: datetime.fromtimestamp(timestamp))\n",
    "df['datetime'] = pd.to_datetime(df['datetime']).dt.date\n",
    "min(df[df['datetime'] > date(1970, 1, 1)].datetime), max(df[df['datetime'] > date(1970, 1, 1)].datetime)"
   ]
  },
  {
   "cell_type": "code",
   "execution_count": 12,
   "metadata": {},
   "outputs": [
    {
     "data": {
      "text/plain": [
       "label    available\n",
       "abusive  False        0.656545\n",
       "         True         0.343455\n",
       "hateful  False        0.580841\n",
       "         True         0.419159\n",
       "normal   False        0.358951\n",
       "         True         0.641049\n",
       "spam     False        0.443882\n",
       "         True         0.556118\n",
       "Name: available, dtype: float64"
      ]
     },
     "execution_count": 12,
     "metadata": {},
     "output_type": "execute_result"
    }
   ],
   "source": [
    "a = df.groupby([ 'label', 'available' ])['available'].count()\n",
    "a.div(a.sum(level=0), level=0)"
   ]
  },
  {
   "cell_type": "code",
   "execution_count": 13,
   "metadata": {},
   "outputs": [
    {
     "data": {
      "text/html": [
       "<div>\n",
       "<style scoped>\n",
       "    .dataframe tbody tr th:only-of-type {\n",
       "        vertical-align: middle;\n",
       "    }\n",
       "\n",
       "    .dataframe tbody tr th {\n",
       "        vertical-align: top;\n",
       "    }\n",
       "\n",
       "    .dataframe thead th {\n",
       "        text-align: right;\n",
       "    }\n",
       "</style>\n",
       "<table border=\"1\" class=\"dataframe\">\n",
       "  <thead>\n",
       "    <tr style=\"text-align: right;\">\n",
       "      <th></th>\n",
       "      <th>label</th>\n",
       "      <th>available</th>\n",
       "      <th>text</th>\n",
       "      <th>timestamp</th>\n",
       "      <th>datetime</th>\n",
       "    </tr>\n",
       "    <tr>\n",
       "      <th>tweet_id</th>\n",
       "      <th></th>\n",
       "      <th></th>\n",
       "      <th></th>\n",
       "      <th></th>\n",
       "      <th></th>\n",
       "    </tr>\n",
       "  </thead>\n",
       "  <tbody>\n",
       "    <tr>\n",
       "      <th>848975494141931521</th>\n",
       "      <td>spam</td>\n",
       "      <td>True</td>\n",
       "      <td>Aquaphor Baby Wash &amp;amp; Shampoo 8.4 fl. oz. (...</td>\n",
       "      <td>1.491247e+09</td>\n",
       "      <td>2017-04-03</td>\n",
       "    </tr>\n",
       "    <tr>\n",
       "      <th>848988345497604097</th>\n",
       "      <td>spam</td>\n",
       "      <td>True</td>\n",
       "      <td>Fall in love with this 4 BD/ 3 BA in ACCOKEEK....</td>\n",
       "      <td>1.491250e+09</td>\n",
       "      <td>2017-04-03</td>\n",
       "    </tr>\n",
       "    <tr>\n",
       "      <th>850659976968327169</th>\n",
       "      <td>spam</td>\n",
       "      <td>True</td>\n",
       "      <td>I added a video to a @YouTube playlist https:/...</td>\n",
       "      <td>1.491648e+09</td>\n",
       "      <td>2017-04-08</td>\n",
       "    </tr>\n",
       "    <tr>\n",
       "      <th>848531321521614850</th>\n",
       "      <td>spam</td>\n",
       "      <td>True</td>\n",
       "      <td>And he had to reach across my body to shove hi...</td>\n",
       "      <td>1.491141e+09</td>\n",
       "      <td>2017-04-02</td>\n",
       "    </tr>\n",
       "    <tr>\n",
       "      <th>848414719895625728</th>\n",
       "      <td>spam</td>\n",
       "      <td>True</td>\n",
       "      <td>Wine House is a Winery #Free #HTML #Template f...</td>\n",
       "      <td>1.491113e+09</td>\n",
       "      <td>2017-04-02</td>\n",
       "    </tr>\n",
       "    <tr>\n",
       "      <th>849331045304610817</th>\n",
       "      <td>spam</td>\n",
       "      <td>True</td>\n",
       "      <td>New art from @EarthHeiress celebrates the Leus...</td>\n",
       "      <td>1.491331e+09</td>\n",
       "      <td>2017-04-04</td>\n",
       "    </tr>\n",
       "    <tr>\n",
       "      <th>850344946993315840</th>\n",
       "      <td>spam</td>\n",
       "      <td>True</td>\n",
       "      <td>I've just entered the @unitlostgaming @Dell In...</td>\n",
       "      <td>1.491573e+09</td>\n",
       "      <td>2017-04-07</td>\n",
       "    </tr>\n",
       "    <tr>\n",
       "      <th>850415671326453766</th>\n",
       "      <td>spam</td>\n",
       "      <td>True</td>\n",
       "      <td>The ChicagoFishingSchool Daily is out! https:/...</td>\n",
       "      <td>1.491590e+09</td>\n",
       "      <td>2017-04-07</td>\n",
       "    </tr>\n",
       "    <tr>\n",
       "      <th>848876147865772032</th>\n",
       "      <td>spam</td>\n",
       "      <td>True</td>\n",
       "      <td>@sebabecks we would LOVE the support for our n...</td>\n",
       "      <td>1.491223e+09</td>\n",
       "      <td>2017-04-03</td>\n",
       "    </tr>\n",
       "    <tr>\n",
       "      <th>847742767233093633</th>\n",
       "      <td>spam</td>\n",
       "      <td>True</td>\n",
       "      <td>Keep your healthy eating on track with these h...</td>\n",
       "      <td>1.490953e+09</td>\n",
       "      <td>2017-03-31</td>\n",
       "    </tr>\n",
       "  </tbody>\n",
       "</table>\n",
       "</div>"
      ],
      "text/plain": [
       "                   label  available  \\\n",
       "tweet_id                              \n",
       "848975494141931521  spam       True   \n",
       "848988345497604097  spam       True   \n",
       "850659976968327169  spam       True   \n",
       "848531321521614850  spam       True   \n",
       "848414719895625728  spam       True   \n",
       "849331045304610817  spam       True   \n",
       "850344946993315840  spam       True   \n",
       "850415671326453766  spam       True   \n",
       "848876147865772032  spam       True   \n",
       "847742767233093633  spam       True   \n",
       "\n",
       "                                                                 text  \\\n",
       "tweet_id                                                                \n",
       "848975494141931521  Aquaphor Baby Wash &amp; Shampoo 8.4 fl. oz. (...   \n",
       "848988345497604097  Fall in love with this 4 BD/ 3 BA in ACCOKEEK....   \n",
       "850659976968327169  I added a video to a @YouTube playlist https:/...   \n",
       "848531321521614850  And he had to reach across my body to shove hi...   \n",
       "848414719895625728  Wine House is a Winery #Free #HTML #Template f...   \n",
       "849331045304610817  New art from @EarthHeiress celebrates the Leus...   \n",
       "850344946993315840  I've just entered the @unitlostgaming @Dell In...   \n",
       "850415671326453766  The ChicagoFishingSchool Daily is out! https:/...   \n",
       "848876147865772032  @sebabecks we would LOVE the support for our n...   \n",
       "847742767233093633  Keep your healthy eating on track with these h...   \n",
       "\n",
       "                       timestamp    datetime  \n",
       "tweet_id                                      \n",
       "848975494141931521  1.491247e+09  2017-04-03  \n",
       "848988345497604097  1.491250e+09  2017-04-03  \n",
       "850659976968327169  1.491648e+09  2017-04-08  \n",
       "848531321521614850  1.491141e+09  2017-04-02  \n",
       "848414719895625728  1.491113e+09  2017-04-02  \n",
       "849331045304610817  1.491331e+09  2017-04-04  \n",
       "850344946993315840  1.491573e+09  2017-04-07  \n",
       "850415671326453766  1.491590e+09  2017-04-07  \n",
       "848876147865772032  1.491223e+09  2017-04-03  \n",
       "847742767233093633  1.490953e+09  2017-03-31  "
      ]
     },
     "execution_count": 13,
     "metadata": {},
     "output_type": "execute_result"
    }
   ],
   "source": [
    "# looks like many 'spam' tweets are actually opinions\n",
    "df[(df.label == 'spam') & (df.available)].sample(10)"
   ]
  },
  {
   "cell_type": "code",
   "execution_count": 14,
   "metadata": {},
   "outputs": [
    {
     "data": {
      "text/plain": [
       "label\n",
       "abusive    0.173114\n",
       "hateful    0.038664\n",
       "normal     0.642829\n",
       "spam       0.145393\n",
       "Name: label, dtype: float64"
      ]
     },
     "execution_count": 14,
     "metadata": {},
     "output_type": "execute_result"
    }
   ],
   "source": [
    "df.groupby(['label'])['label'].count() / len(df) # original tweet share\n",
    "df[df.available].groupby(['label'])['label'].count() / len(df[df.available]) # available tweet share"
   ]
  },
  {
   "cell_type": "code",
   "execution_count": 15,
   "metadata": {},
   "outputs": [
    {
     "name": "stdout",
     "output_type": "stream",
     "text": [
      "CPU times: user 14.2 ms, sys: 358 µs, total: 14.6 ms\n",
      "Wall time: 13.7 ms\n"
     ]
    },
    {
     "data": {
      "text/plain": [
       "noise  available\n",
       "False  False        0.46251\n",
       "       True         0.53749\n",
       "Name: available, dtype: float64"
      ]
     },
     "execution_count": 15,
     "metadata": {},
     "output_type": "execute_result"
    }
   ],
   "source": [
    "%%time\n",
    "df['noise'] = df.label.isin([ 'abusive', 'hateful', 'spam' ]) # for founta\n",
    "df['noise'] = df.label.isin([ 'racism', 'sexism' ]) # for waseem\n",
    "a = df.groupby([ 'noise', 'available' ])['available'].count()\n",
    "a.div(a.sum(level=0), level=0)"
   ]
  }
 ],
 "metadata": {
  "kernelspec": {
   "display_name": "phd",
   "language": "python",
   "name": "phd"
  },
  "language_info": {
   "codemirror_mode": {
    "name": "ipython",
    "version": 3
   },
   "file_extension": ".py",
   "mimetype": "text/x-python",
   "name": "python",
   "nbconvert_exporter": "python",
   "pygments_lexer": "ipython3",
   "version": "3.8.10"
  }
 },
 "nbformat": 4,
 "nbformat_minor": 4
}
